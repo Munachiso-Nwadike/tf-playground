{
 "cells": [
  {
   "cell_type": "code",
   "execution_count": 3,
   "metadata": {},
   "outputs": [
    {
     "name": "stdout",
     "output_type": "stream",
     "text": [
      "Tensor(\"output:0\", shape=(?, 1), dtype=float32)\n"
     ]
    }
   ],
   "source": [
    "from datetime import datetime\n",
    "import tensorflow as tf \n",
    "import numpy as np\n",
    "\n",
    "def reset_graph(seed=42):\n",
    "    tf.reset_default_graph()\n",
    "    tf.set_random_seed(seed)\n",
    "    np.random.seed(seed)\n",
    "\n",
    "#constructing graph logs\n",
    "logdir = \"logs/relu10\"\n",
    "reset_graph()\n",
    "\n",
    "#function\n",
    "def relu(X):\n",
    " threshold = tf.get_variable(\"threshold\", shape=(),\n",
    "          initializer=tf.constant_initializer(0.0))\n",
    " w_shape = (int(X.get_shape()[1]), 1)\n",
    " w = tf.Variable(tf.random_normal(w_shape), name=\"weights\")\n",
    " b = tf.Variable(0.0, name=\"bias\")\n",
    " z = tf.add(tf.matmul(X, w), b, name=\"z\")\n",
    " return tf.maximum(z, threshold, name=\"max\")\n",
    "\n",
    "#modularity\n",
    "n_features = 3\n",
    "X = tf.placeholder(tf.float32, shape=(None, n_features), name=\"X\")\n",
    "relus = []\n",
    "for relu_index in range(5):\n",
    " with tf.variable_scope(\"relu\", reuse=(relu_index >= 1)) as scope:\n",
    "  relus.append(relu(X))\n",
    "output = tf.add_n(relus, name=\"output\")\n",
    "print ( output )\n",
    "#\n",
    "file_writer = tf.summary.FileWriter(logdir, tf.get_default_graph())\n",
    "\n",
    "\n",
    "file_writer.close()"
   ]
  },
  {
   "cell_type": "code",
   "execution_count": null,
   "metadata": {},
   "outputs": [],
   "source": []
  },
  {
   "cell_type": "code",
   "execution_count": null,
   "metadata": {},
   "outputs": [],
   "source": []
  }
 ],
 "metadata": {
  "kernelspec": {
   "display_name": "Python 3",
   "language": "python",
   "name": "python3"
  },
  "language_info": {
   "codemirror_mode": {
    "name": "ipython",
    "version": 3
   },
   "file_extension": ".py",
   "mimetype": "text/x-python",
   "name": "python",
   "nbconvert_exporter": "python",
   "pygments_lexer": "ipython3",
   "version": "3.6.6"
  }
 },
 "nbformat": 4,
 "nbformat_minor": 2
}
